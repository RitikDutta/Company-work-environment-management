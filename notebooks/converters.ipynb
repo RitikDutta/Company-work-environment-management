{
 "cells": [
  {
   "cell_type": "code",
   "execution_count": 42,
   "id": "883856fd",
   "metadata": {},
   "outputs": [
    {
     "data": {
      "text/plain": [
       "33"
      ]
     },
     "execution_count": 42,
     "metadata": {},
     "output_type": "execute_result"
    }
   ],
   "source": [
    "x = {'landmarks': [{'x': 0.5454695820808411, 'y': 0.6748321652412415, 'z': -0.7199423313140869, 'visibility': 0.99909907579422}, {'x': 0.5473164916038513, 'y': 0.6220959424972534, 'z': -0.6980997920036316, 'visibility': 0.9982926845550537}, {'x': 0.5515623688697815, 'y': 0.6206902265548706, 'z': -0.6980924606323242, 'visibility': 0.997909665107727}, {'x': 0.5557631254196167, 'y': 0.6185289025306702, 'z': -0.6980994343757629, 'visibility': 0.9973894357681274}, {'x': 0.5257865190505981, 'y': 0.6207806468009949, 'z': -0.7406908869743347, 'visibility': 0.9990617036819458}, {'x': 0.5132017731666565, 'y': 0.6181095838546753, 'z': -0.7406903505325317, 'visibility': 0.9991831183433533}, {'x': 0.500263512134552, 'y': 0.614709198474884, 'z': -0.7410531640052795, 'visibility': 0.9991683959960938}, {'x': 0.5398885607719421, 'y': 0.6278904676437378, 'z': -0.5105078816413879, 'visibility': 0.9978160262107849}, {'x': 0.4619547724723816, 'y': 0.6226251125335693, 'z': -0.6971204876899719, 'visibility': 0.9996634721755981}, {'x': 0.5430112481117249, 'y': 0.7263548374176025, 'z': -0.6406038999557495, 'visibility': 0.9987558722496033}, {'x': 0.5178163051605225, 'y': 0.7259326577186584, 'z': -0.6942938566207886, 'visibility': 0.9995691180229187}, {'x': 0.5578140020370483, 'y': 0.8343484401702881, 'z': -0.3178628087043762, 'visibility': 0.9890120029449463}, {'x': 0.3234836459159851, 'y': 0.8491232395172119, 'z': -0.5962515473365784, 'visibility': 0.995445191860199}, {'x': 0.6168203949928284, 'y': 1.0795156955718994, 'z': -0.09192551672458649, 'visibility': 0.19562563300132751}, {'x': 0.25853151082992554, 'y': 1.2304266691207886, 'z': -0.5265306830406189, 'visibility': 0.6719987988471985}, {'x': 0.6316277980804443, 'y': 1.294083833694458, 'z': -0.05329129844903946, 'visibility': 0.11209479719400406}, {'x': 0.3096488118171692, 'y': 1.4799680709838867, 'z': -0.5408157110214233, 'visibility': 0.21171773970127106}, {'x': 0.6532174348831177, 'y': 1.3665655851364136, 'z': -0.05721629783511162, 'visibility': 0.12234904617071152}, {'x': 0.3093355596065521, 'y': 1.573687195777893, 'z': -0.5664710402488708, 'visibility': 0.198204904794693}, {'x': 0.6420430541038513, 'y': 1.3811053037643433, 'z': -0.08566587418317795, 'visibility': 0.15820267796516418}, {'x': 0.33128952980041504, 'y': 1.556300163269043, 'z': -0.6115931272506714, 'visibility': 0.2556341886520386}, {'x': 0.6234787106513977, 'y': 1.3598535060882568, 'z': -0.06904463469982147, 'visibility': 0.16368260979652405}, {'x': 0.3348403573036194, 'y': 1.517934799194336, 'z': -0.5585611462593079, 'visibility': 0.24491675198078156}, {'x': 0.5063937902450562, 'y': 1.4139409065246582, 'z': 0.035775117576122284, 'visibility': 0.005176164675503969}, {'x': 0.34810250997543335, 'y': 1.4274227619171143, 'z': -0.034507159143686295, 'visibility': 0.006485120393335819}, {'x': 0.5042237043380737, 'y': 1.8846806287765503, 'z': 0.11370231211185455, 'visibility': 0.01315288431942463}, {'x': 0.36905908584594727, 'y': 1.9186561107635498, 'z': 0.015820426866412163, 'visibility': 0.01378056313842535}, {'x': 0.4914855360984802, 'y': 2.3103840351104736, 'z': 0.4601244330406189, 'visibility': 0.001576005364768207}, {'x': 0.3653518557548523, 'y': 2.3146400451660156, 'z': 0.2707299590110779, 'visibility': 0.0012553343549370766}, {'x': 0.48404645919799805, 'y': 2.3743553161621094, 'z': 0.4768470227718353, 'visibility': 0.0010925508104264736}, {'x': 0.35052287578582764, 'y': 2.3798959255218506, 'z': 0.2834347188472748, 'visibility': 0.0007594606140628457}, {'x': 0.5156856775283813, 'y': 2.4439892768859863, 'z': 0.23236814141273499, 'visibility': 0.0035022960510104895}, {'x': 0.4108780026435852, 'y': 2.4339187145233154, 'z': -0.024153608828783035, 'visibility': 0.0028416551649570465}]}\n",
    "len(x['landmarks'])"
   ]
  },
  {
   "cell_type": "code",
   "execution_count": 21,
   "id": "1e77ccfd",
   "metadata": {},
   "outputs": [
    {
     "data": {
      "text/plain": [
       "{'x': 0.5454695820808411,\n",
       " 'y': 0.6748321652412415,\n",
       " 'z': -0.7199423313140869,\n",
       " 'visibility': 0.99909907579422}"
      ]
     },
     "execution_count": 21,
     "metadata": {},
     "output_type": "execute_result"
    }
   ],
   "source": [
    "x['landmarks'][0]"
   ]
  },
  {
   "cell_type": "code",
   "execution_count": 61,
   "id": "c9a583dc",
   "metadata": {},
   "outputs": [],
   "source": [
    "import pandas as pd\n",
    "pdf = pd.DataFrame()"
   ]
  },
  {
   "cell_type": "code",
   "execution_count": 62,
   "id": "aa3c3a34",
   "metadata": {},
   "outputs": [
    {
     "name": "stderr",
     "output_type": "stream",
     "text": [
      "/tmp/ipykernel_32829/3288110361.py:3: PerformanceWarning: DataFrame is highly fragmented.  This is usually the result of calling `frame.insert` many times, which has poor performance.  Consider joining all columns at once using pd.concat(axis=1) instead. To get a de-fragmented frame, use `newframe = frame.copy()`\n",
      "  pdf[f'x{y+i}'] = [x['landmarks'][i]['x']]\n",
      "/tmp/ipykernel_32829/3288110361.py:4: PerformanceWarning: DataFrame is highly fragmented.  This is usually the result of calling `frame.insert` many times, which has poor performance.  Consider joining all columns at once using pd.concat(axis=1) instead. To get a de-fragmented frame, use `newframe = frame.copy()`\n",
      "  pdf[f'y{y+i}'] = [x['landmarks'][i]['y']]\n",
      "/tmp/ipykernel_32829/3288110361.py:5: PerformanceWarning: DataFrame is highly fragmented.  This is usually the result of calling `frame.insert` many times, which has poor performance.  Consider joining all columns at once using pd.concat(axis=1) instead. To get a de-fragmented frame, use `newframe = frame.copy()`\n",
      "  pdf[f'z{y+i}'] = [x['landmarks'][i]['z']]\n",
      "/tmp/ipykernel_32829/3288110361.py:6: PerformanceWarning: DataFrame is highly fragmented.  This is usually the result of calling `frame.insert` many times, which has poor performance.  Consider joining all columns at once using pd.concat(axis=1) instead. To get a de-fragmented frame, use `newframe = frame.copy()`\n",
      "  pdf[f'v{y+i}'] = [x['landmarks'][i]['visibility']]\n",
      "/tmp/ipykernel_32829/3288110361.py:3: PerformanceWarning: DataFrame is highly fragmented.  This is usually the result of calling `frame.insert` many times, which has poor performance.  Consider joining all columns at once using pd.concat(axis=1) instead. To get a de-fragmented frame, use `newframe = frame.copy()`\n",
      "  pdf[f'x{y+i}'] = [x['landmarks'][i]['x']]\n",
      "/tmp/ipykernel_32829/3288110361.py:4: PerformanceWarning: DataFrame is highly fragmented.  This is usually the result of calling `frame.insert` many times, which has poor performance.  Consider joining all columns at once using pd.concat(axis=1) instead. To get a de-fragmented frame, use `newframe = frame.copy()`\n",
      "  pdf[f'y{y+i}'] = [x['landmarks'][i]['y']]\n",
      "/tmp/ipykernel_32829/3288110361.py:5: PerformanceWarning: DataFrame is highly fragmented.  This is usually the result of calling `frame.insert` many times, which has poor performance.  Consider joining all columns at once using pd.concat(axis=1) instead. To get a de-fragmented frame, use `newframe = frame.copy()`\n",
      "  pdf[f'z{y+i}'] = [x['landmarks'][i]['z']]\n",
      "/tmp/ipykernel_32829/3288110361.py:6: PerformanceWarning: DataFrame is highly fragmented.  This is usually the result of calling `frame.insert` many times, which has poor performance.  Consider joining all columns at once using pd.concat(axis=1) instead. To get a de-fragmented frame, use `newframe = frame.copy()`\n",
      "  pdf[f'v{y+i}'] = [x['landmarks'][i]['visibility']]\n",
      "/tmp/ipykernel_32829/3288110361.py:3: PerformanceWarning: DataFrame is highly fragmented.  This is usually the result of calling `frame.insert` many times, which has poor performance.  Consider joining all columns at once using pd.concat(axis=1) instead. To get a de-fragmented frame, use `newframe = frame.copy()`\n",
      "  pdf[f'x{y+i}'] = [x['landmarks'][i]['x']]\n",
      "/tmp/ipykernel_32829/3288110361.py:4: PerformanceWarning: DataFrame is highly fragmented.  This is usually the result of calling `frame.insert` many times, which has poor performance.  Consider joining all columns at once using pd.concat(axis=1) instead. To get a de-fragmented frame, use `newframe = frame.copy()`\n",
      "  pdf[f'y{y+i}'] = [x['landmarks'][i]['y']]\n",
      "/tmp/ipykernel_32829/3288110361.py:5: PerformanceWarning: DataFrame is highly fragmented.  This is usually the result of calling `frame.insert` many times, which has poor performance.  Consider joining all columns at once using pd.concat(axis=1) instead. To get a de-fragmented frame, use `newframe = frame.copy()`\n",
      "  pdf[f'z{y+i}'] = [x['landmarks'][i]['z']]\n",
      "/tmp/ipykernel_32829/3288110361.py:6: PerformanceWarning: DataFrame is highly fragmented.  This is usually the result of calling `frame.insert` many times, which has poor performance.  Consider joining all columns at once using pd.concat(axis=1) instead. To get a de-fragmented frame, use `newframe = frame.copy()`\n",
      "  pdf[f'v{y+i}'] = [x['landmarks'][i]['visibility']]\n",
      "/tmp/ipykernel_32829/3288110361.py:3: PerformanceWarning: DataFrame is highly fragmented.  This is usually the result of calling `frame.insert` many times, which has poor performance.  Consider joining all columns at once using pd.concat(axis=1) instead. To get a de-fragmented frame, use `newframe = frame.copy()`\n",
      "  pdf[f'x{y+i}'] = [x['landmarks'][i]['x']]\n",
      "/tmp/ipykernel_32829/3288110361.py:4: PerformanceWarning: DataFrame is highly fragmented.  This is usually the result of calling `frame.insert` many times, which has poor performance.  Consider joining all columns at once using pd.concat(axis=1) instead. To get a de-fragmented frame, use `newframe = frame.copy()`\n",
      "  pdf[f'y{y+i}'] = [x['landmarks'][i]['y']]\n",
      "/tmp/ipykernel_32829/3288110361.py:5: PerformanceWarning: DataFrame is highly fragmented.  This is usually the result of calling `frame.insert` many times, which has poor performance.  Consider joining all columns at once using pd.concat(axis=1) instead. To get a de-fragmented frame, use `newframe = frame.copy()`\n",
      "  pdf[f'z{y+i}'] = [x['landmarks'][i]['z']]\n",
      "/tmp/ipykernel_32829/3288110361.py:6: PerformanceWarning: DataFrame is highly fragmented.  This is usually the result of calling `frame.insert` many times, which has poor performance.  Consider joining all columns at once using pd.concat(axis=1) instead. To get a de-fragmented frame, use `newframe = frame.copy()`\n",
      "  pdf[f'v{y+i}'] = [x['landmarks'][i]['visibility']]\n",
      "/tmp/ipykernel_32829/3288110361.py:3: PerformanceWarning: DataFrame is highly fragmented.  This is usually the result of calling `frame.insert` many times, which has poor performance.  Consider joining all columns at once using pd.concat(axis=1) instead. To get a de-fragmented frame, use `newframe = frame.copy()`\n",
      "  pdf[f'x{y+i}'] = [x['landmarks'][i]['x']]\n",
      "/tmp/ipykernel_32829/3288110361.py:4: PerformanceWarning: DataFrame is highly fragmented.  This is usually the result of calling `frame.insert` many times, which has poor performance.  Consider joining all columns at once using pd.concat(axis=1) instead. To get a de-fragmented frame, use `newframe = frame.copy()`\n",
      "  pdf[f'y{y+i}'] = [x['landmarks'][i]['y']]\n",
      "/tmp/ipykernel_32829/3288110361.py:5: PerformanceWarning: DataFrame is highly fragmented.  This is usually the result of calling `frame.insert` many times, which has poor performance.  Consider joining all columns at once using pd.concat(axis=1) instead. To get a de-fragmented frame, use `newframe = frame.copy()`\n",
      "  pdf[f'z{y+i}'] = [x['landmarks'][i]['z']]\n",
      "/tmp/ipykernel_32829/3288110361.py:6: PerformanceWarning: DataFrame is highly fragmented.  This is usually the result of calling `frame.insert` many times, which has poor performance.  Consider joining all columns at once using pd.concat(axis=1) instead. To get a de-fragmented frame, use `newframe = frame.copy()`\n",
      "  pdf[f'v{y+i}'] = [x['landmarks'][i]['visibility']]\n",
      "/tmp/ipykernel_32829/3288110361.py:3: PerformanceWarning: DataFrame is highly fragmented.  This is usually the result of calling `frame.insert` many times, which has poor performance.  Consider joining all columns at once using pd.concat(axis=1) instead. To get a de-fragmented frame, use `newframe = frame.copy()`\n",
      "  pdf[f'x{y+i}'] = [x['landmarks'][i]['x']]\n",
      "/tmp/ipykernel_32829/3288110361.py:4: PerformanceWarning: DataFrame is highly fragmented.  This is usually the result of calling `frame.insert` many times, which has poor performance.  Consider joining all columns at once using pd.concat(axis=1) instead. To get a de-fragmented frame, use `newframe = frame.copy()`\n",
      "  pdf[f'y{y+i}'] = [x['landmarks'][i]['y']]\n",
      "/tmp/ipykernel_32829/3288110361.py:5: PerformanceWarning: DataFrame is highly fragmented.  This is usually the result of calling `frame.insert` many times, which has poor performance.  Consider joining all columns at once using pd.concat(axis=1) instead. To get a de-fragmented frame, use `newframe = frame.copy()`\n",
      "  pdf[f'z{y+i}'] = [x['landmarks'][i]['z']]\n",
      "/tmp/ipykernel_32829/3288110361.py:6: PerformanceWarning: DataFrame is highly fragmented.  This is usually the result of calling `frame.insert` many times, which has poor performance.  Consider joining all columns at once using pd.concat(axis=1) instead. To get a de-fragmented frame, use `newframe = frame.copy()`\n",
      "  pdf[f'v{y+i}'] = [x['landmarks'][i]['visibility']]\n",
      "/tmp/ipykernel_32829/3288110361.py:3: PerformanceWarning: DataFrame is highly fragmented.  This is usually the result of calling `frame.insert` many times, which has poor performance.  Consider joining all columns at once using pd.concat(axis=1) instead. To get a de-fragmented frame, use `newframe = frame.copy()`\n",
      "  pdf[f'x{y+i}'] = [x['landmarks'][i]['x']]\n",
      "/tmp/ipykernel_32829/3288110361.py:4: PerformanceWarning: DataFrame is highly fragmented.  This is usually the result of calling `frame.insert` many times, which has poor performance.  Consider joining all columns at once using pd.concat(axis=1) instead. To get a de-fragmented frame, use `newframe = frame.copy()`\n",
      "  pdf[f'y{y+i}'] = [x['landmarks'][i]['y']]\n",
      "/tmp/ipykernel_32829/3288110361.py:5: PerformanceWarning: DataFrame is highly fragmented.  This is usually the result of calling `frame.insert` many times, which has poor performance.  Consider joining all columns at once using pd.concat(axis=1) instead. To get a de-fragmented frame, use `newframe = frame.copy()`\n",
      "  pdf[f'z{y+i}'] = [x['landmarks'][i]['z']]\n",
      "/tmp/ipykernel_32829/3288110361.py:6: PerformanceWarning: DataFrame is highly fragmented.  This is usually the result of calling `frame.insert` many times, which has poor performance.  Consider joining all columns at once using pd.concat(axis=1) instead. To get a de-fragmented frame, use `newframe = frame.copy()`\n",
      "  pdf[f'v{y+i}'] = [x['landmarks'][i]['visibility']]\n",
      "/tmp/ipykernel_32829/3288110361.py:3: PerformanceWarning: DataFrame is highly fragmented.  This is usually the result of calling `frame.insert` many times, which has poor performance.  Consider joining all columns at once using pd.concat(axis=1) instead. To get a de-fragmented frame, use `newframe = frame.copy()`\n",
      "  pdf[f'x{y+i}'] = [x['landmarks'][i]['x']]\n",
      "/tmp/ipykernel_32829/3288110361.py:4: PerformanceWarning: DataFrame is highly fragmented.  This is usually the result of calling `frame.insert` many times, which has poor performance.  Consider joining all columns at once using pd.concat(axis=1) instead. To get a de-fragmented frame, use `newframe = frame.copy()`\n",
      "  pdf[f'y{y+i}'] = [x['landmarks'][i]['y']]\n",
      "/tmp/ipykernel_32829/3288110361.py:5: PerformanceWarning: DataFrame is highly fragmented.  This is usually the result of calling `frame.insert` many times, which has poor performance.  Consider joining all columns at once using pd.concat(axis=1) instead. To get a de-fragmented frame, use `newframe = frame.copy()`\n",
      "  pdf[f'z{y+i}'] = [x['landmarks'][i]['z']]\n",
      "/tmp/ipykernel_32829/3288110361.py:6: PerformanceWarning: DataFrame is highly fragmented.  This is usually the result of calling `frame.insert` many times, which has poor performance.  Consider joining all columns at once using pd.concat(axis=1) instead. To get a de-fragmented frame, use `newframe = frame.copy()`\n",
      "  pdf[f'v{y+i}'] = [x['landmarks'][i]['visibility']]\n"
     ]
    }
   ],
   "source": [
    "for i in range(1, 32):\n",
    "    for y in range(0, 3):\n",
    "        pdf[f'x{y+i}'] = [x['landmarks'][i]['x']]\n",
    "        pdf[f'y{y+i}'] = [x['landmarks'][i]['y']]\n",
    "        pdf[f'z{y+i}'] = [x['landmarks'][i]['z']]\n",
    "        pdf[f'v{y+i}'] = [x['landmarks'][i]['visibility']]"
   ]
  },
  {
   "cell_type": "code",
   "execution_count": 65,
   "id": "edca031e",
   "metadata": {},
   "outputs": [
    {
     "data": {
      "text/plain": [
       "(1, 132)"
      ]
     },
     "execution_count": 65,
     "metadata": {},
     "output_type": "execute_result"
    }
   ],
   "source": [
    "pdf.shape"
   ]
  },
  {
   "cell_type": "code",
   "execution_count": null,
   "id": "4e2573bd",
   "metadata": {},
   "outputs": [],
   "source": [
    "flipped_landmarks = []\n",
    "for landmark in landmarks:\n",
    "    flipped_landmark = {}\n",
    "    flipped_landmark['x'] = -landmark['x']\n",
    "    flipped_landmark['y'] = landmark['y']\n",
    "    flipped_landmark['z'] = landmark['z']\n",
    "    flipped_landmark['visibility'] = landmark['visibility']\n",
    "    flipped_landmarks.append(flipped_landmark)\n",
    "landmarks = flipped_landmarks[::-1]"
   ]
  },
  {
   "cell_type": "code",
   "execution_count": 3,
   "id": "7b55838f",
   "metadata": {},
   "outputs": [],
   "source": [
    "import cv2\n",
    "import mediapipe as mp\n",
    "\n",
    "def get_pose_landmarks(image_path):\n",
    "    # Load the image\n",
    "    image = cv2.imread(image_path)\n",
    "\n",
    "    # Create a MediaPipe Pose model\n",
    "    pose = mp.solutions.pose.Pose()\n",
    "\n",
    "    # Convert the image from BGR to RGB format\n",
    "    image = cv2.cvtColor(image, cv2.COLOR_BGR2RGB)\n",
    "\n",
    "    # Get the pose landmarks from the image\n",
    "    results = pose.process(image)\n",
    "\n",
    "    # Extract the landmarks and return them as a list of tuples\n",
    "    landmarks = []\n",
    "    if results.pose_landmarks:\n",
    "        for landmark in results.pose_landmarks.landmark:\n",
    "            x = landmark.x\n",
    "            y = landmark.y\n",
    "            z = landmark.z\n",
    "            visibility = landmark.visibility\n",
    "            landmarks.append((x, y, z, visibility))\n",
    "\n",
    "    return landmarks\n"
   ]
  },
  {
   "cell_type": "code",
   "execution_count": 8,
   "id": "3e3f962f",
   "metadata": {},
   "outputs": [],
   "source": [
    "lis = get_pose_landmarks(\"./received_image.jpg\")"
   ]
  },
  {
   "cell_type": "code",
   "execution_count": 22,
   "id": "c79290b1",
   "metadata": {},
   "outputs": [
    {
     "data": {
      "text/plain": [
       "[(0.5213906168937683,\n",
       "  0.6610178351402283,\n",
       "  -0.7593401074409485,\n",
       "  0.9991783499717712),\n",
       " (0.5426453948020935,\n",
       "  0.6071718335151672,\n",
       "  -0.7143280506134033,\n",
       "  0.9987695813179016),\n",
       " (0.5559905171394348,\n",
       "  0.6082683801651001,\n",
       "  -0.7144284248352051,\n",
       "  0.9988927245140076),\n",
       " (0.5678175687789917,\n",
       "  0.6095948815345764,\n",
       "  -0.7144502401351929,\n",
       "  0.9988428354263306),\n",
       " (0.49959149956703186,\n",
       "  0.6025547385215759,\n",
       "  -0.7244910001754761,\n",
       "  0.9987329840660095),\n",
       " (0.4851343631744385,\n",
       "  0.6005594730377197,\n",
       "  -0.7241032123565674,\n",
       "  0.9986841082572937),\n",
       " (0.470660537481308,\n",
       "  0.599038302898407,\n",
       "  -0.724449872970581,\n",
       "  0.9986339211463928),\n",
       " (0.5845308899879456,\n",
       "  0.6232427954673767,\n",
       "  -0.3964891731739044,\n",
       "  0.9986667633056641),\n",
       " (0.4478006958961487,\n",
       "  0.6108365654945374,\n",
       "  -0.4339037835597992,\n",
       "  0.9990500807762146),\n",
       " (0.5456942915916443,\n",
       "  0.7158070802688599,\n",
       "  -0.632506787776947,\n",
       "  0.9981775283813477),\n",
       " (0.4920927882194519,\n",
       "  0.7160829305648804,\n",
       "  -0.6445048451423645,\n",
       "  0.998889148235321),\n",
       " (0.6772922277450562,\n",
       "  0.8428785800933838,\n",
       "  -0.164320707321167,\n",
       "  0.9916355609893799),\n",
       " (0.34608757495880127,\n",
       "  0.8637537360191345,\n",
       "  -0.23324406147003174,\n",
       "  0.9853084683418274),\n",
       " (0.7505313158035278,\n",
       "  1.0414677858352661,\n",
       "  -0.4182230830192566,\n",
       "  0.10939609259366989),\n",
       " (0.3211565911769867,\n",
       "  1.2420741319656372,\n",
       "  -0.22491085529327393,\n",
       "  0.044864851981401443),\n",
       " (0.814949631690979,\n",
       "  1.0396628379821777,\n",
       "  -0.9129452705383301,\n",
       "  0.34684181213378906),\n",
       " (0.36983728408813477,\n",
       "  1.4148766994476318,\n",
       "  -0.5027216672897339,\n",
       "  0.04999101161956787),\n",
       " (0.86420738697052,\n",
       "  1.0180773735046387,\n",
       "  -1.017052173614502,\n",
       "  0.4456613063812256),\n",
       " (0.366372287273407,\n",
       "  1.4850023984909058,\n",
       "  -0.5759113430976868,\n",
       "  0.09780988842248917),\n",
       " (0.8497511148452759,\n",
       "  0.9246366620063782,\n",
       "  -1.0124554634094238,\n",
       "  0.5309223532676697),\n",
       " (0.386360764503479,\n",
       "  1.4553313255310059,\n",
       "  -0.6111383438110352,\n",
       "  0.15256187319755554),\n",
       " (0.815417468547821,\n",
       "  0.9443389177322388,\n",
       "  -0.9349318742752075,\n",
       "  0.4990849494934082),\n",
       " (0.3960186243057251,\n",
       "  1.4277300834655762,\n",
       "  -0.5303817987442017,\n",
       "  0.14297063648700714),\n",
       " (0.6408689022064209,\n",
       "  1.437059998512268,\n",
       "  -0.029351714998483658,\n",
       "  0.0007872727583162487),\n",
       " (0.4050114154815674,\n",
       "  1.4498132467269897,\n",
       "  0.034303173422813416,\n",
       "  0.00048452845658175647),\n",
       " (0.6341539025306702,\n",
       "  1.9509079456329346,\n",
       "  -0.25604021549224854,\n",
       "  0.0005868926527909935),\n",
       " (0.4191407561302185,\n",
       "  1.944030523300171,\n",
       "  -0.3436420261859894,\n",
       "  0.00014859841030556709),\n",
       " (0.6259620189666748,\n",
       "  2.4327175617218018,\n",
       "  -0.00802282802760601,\n",
       "  1.4445048691413831e-05),\n",
       " (0.4062524437904358,\n",
       "  2.4386308193206787,\n",
       "  -0.25960442423820496,\n",
       "  3.2491973342985148e-06),\n",
       " (0.6278826594352722,\n",
       "  2.5053164958953857,\n",
       "  -0.007883707992732525,\n",
       "  1.672241160122212e-05),\n",
       " (0.4028360843658447,\n",
       "  2.520573139190674,\n",
       "  -0.2690337598323822,\n",
       "  4.722865469375392e-06),\n",
       " (0.5856690406799316,\n",
       "  2.5909383296966553,\n",
       "  -0.4915648400783539,\n",
       "  7.89511832408607e-05),\n",
       " (0.4392150044441223,\n",
       "  2.575106382369995,\n",
       "  -0.8057554364204407,\n",
       "  5.621337186312303e-05)]"
      ]
     },
     "execution_count": 22,
     "metadata": {},
     "output_type": "execute_result"
    }
   ],
   "source": [
    "lis"
   ]
  },
  {
   "cell_type": "code",
   "execution_count": 24,
   "id": "66351bee",
   "metadata": {},
   "outputs": [],
   "source": [
    "def convert_list_to_dataframe( landmarks):\n",
    "        lst = landmarks\n",
    "        col_names = [f\"{k}{i+1}\" for i in range(len(lst)) for k in lst[i].keys()]\n",
    "        values = [v for d in lst for v in d.values()]\n",
    "        converted_dataframe = pd.DataFrame([values], columns=col_names)\n",
    "        return converted_dataframe"
   ]
  },
  {
   "cell_type": "code",
   "execution_count": 25,
   "id": "08bec869",
   "metadata": {},
   "outputs": [
    {
     "ename": "AttributeError",
     "evalue": "'tuple' object has no attribute 'keys'",
     "output_type": "error",
     "traceback": [
      "\u001b[0;31m---------------------------------------------------------------------------\u001b[0m",
      "\u001b[0;31mAttributeError\u001b[0m                            Traceback (most recent call last)",
      "Input \u001b[0;32mIn [25]\u001b[0m, in \u001b[0;36m<cell line: 1>\u001b[0;34m()\u001b[0m\n\u001b[0;32m----> 1\u001b[0m \u001b[43mconvert_list_to_dataframe\u001b[49m\u001b[43m(\u001b[49m\u001b[43mlis\u001b[49m\u001b[43m)\u001b[49m\n",
      "Input \u001b[0;32mIn [24]\u001b[0m, in \u001b[0;36mconvert_list_to_dataframe\u001b[0;34m(landmarks)\u001b[0m\n\u001b[1;32m      1\u001b[0m \u001b[38;5;28;01mdef\u001b[39;00m \u001b[38;5;21mconvert_list_to_dataframe\u001b[39m( landmarks):\n\u001b[1;32m      2\u001b[0m         lst \u001b[38;5;241m=\u001b[39m landmarks\n\u001b[0;32m----> 3\u001b[0m         col_names \u001b[38;5;241m=\u001b[39m [\u001b[38;5;124mf\u001b[39m\u001b[38;5;124m\"\u001b[39m\u001b[38;5;132;01m{\u001b[39;00mk\u001b[38;5;132;01m}\u001b[39;00m\u001b[38;5;132;01m{\u001b[39;00mi\u001b[38;5;241m+\u001b[39m\u001b[38;5;241m1\u001b[39m\u001b[38;5;132;01m}\u001b[39;00m\u001b[38;5;124m\"\u001b[39m \u001b[38;5;28;01mfor\u001b[39;00m i \u001b[38;5;129;01min\u001b[39;00m \u001b[38;5;28mrange\u001b[39m(\u001b[38;5;28mlen\u001b[39m(lst)) \u001b[38;5;28;01mfor\u001b[39;00m k \u001b[38;5;129;01min\u001b[39;00m lst[i]\u001b[38;5;241m.\u001b[39mkeys()]\n\u001b[1;32m      4\u001b[0m         values \u001b[38;5;241m=\u001b[39m [v \u001b[38;5;28;01mfor\u001b[39;00m d \u001b[38;5;129;01min\u001b[39;00m lst \u001b[38;5;28;01mfor\u001b[39;00m v \u001b[38;5;129;01min\u001b[39;00m d\u001b[38;5;241m.\u001b[39mvalues()]\n\u001b[1;32m      5\u001b[0m         converted_dataframe \u001b[38;5;241m=\u001b[39m pd\u001b[38;5;241m.\u001b[39mDataFrame([values], columns\u001b[38;5;241m=\u001b[39mcol_names)\n",
      "Input \u001b[0;32mIn [24]\u001b[0m, in \u001b[0;36m<listcomp>\u001b[0;34m(.0)\u001b[0m\n\u001b[1;32m      1\u001b[0m \u001b[38;5;28;01mdef\u001b[39;00m \u001b[38;5;21mconvert_list_to_dataframe\u001b[39m( landmarks):\n\u001b[1;32m      2\u001b[0m         lst \u001b[38;5;241m=\u001b[39m landmarks\n\u001b[0;32m----> 3\u001b[0m         col_names \u001b[38;5;241m=\u001b[39m [\u001b[38;5;124mf\u001b[39m\u001b[38;5;124m\"\u001b[39m\u001b[38;5;132;01m{\u001b[39;00mk\u001b[38;5;132;01m}\u001b[39;00m\u001b[38;5;132;01m{\u001b[39;00mi\u001b[38;5;241m+\u001b[39m\u001b[38;5;241m1\u001b[39m\u001b[38;5;132;01m}\u001b[39;00m\u001b[38;5;124m\"\u001b[39m \u001b[38;5;28;01mfor\u001b[39;00m i \u001b[38;5;129;01min\u001b[39;00m \u001b[38;5;28mrange\u001b[39m(\u001b[38;5;28mlen\u001b[39m(lst)) \u001b[38;5;28;01mfor\u001b[39;00m k \u001b[38;5;129;01min\u001b[39;00m \u001b[43mlst\u001b[49m\u001b[43m[\u001b[49m\u001b[43mi\u001b[49m\u001b[43m]\u001b[49m\u001b[38;5;241;43m.\u001b[39;49m\u001b[43mkeys\u001b[49m()]\n\u001b[1;32m      4\u001b[0m         values \u001b[38;5;241m=\u001b[39m [v \u001b[38;5;28;01mfor\u001b[39;00m d \u001b[38;5;129;01min\u001b[39;00m lst \u001b[38;5;28;01mfor\u001b[39;00m v \u001b[38;5;129;01min\u001b[39;00m d\u001b[38;5;241m.\u001b[39mvalues()]\n\u001b[1;32m      5\u001b[0m         converted_dataframe \u001b[38;5;241m=\u001b[39m pd\u001b[38;5;241m.\u001b[39mDataFrame([values], columns\u001b[38;5;241m=\u001b[39mcol_names)\n",
      "\u001b[0;31mAttributeError\u001b[0m: 'tuple' object has no attribute 'keys'"
     ]
    }
   ],
   "source": [
    "convert_list_to_dataframe(lis)"
   ]
  },
  {
   "cell_type": "code",
   "execution_count": 50,
   "id": "d258697d",
   "metadata": {},
   "outputs": [
    {
     "data": {
      "text/plain": [
       "(0.5213906168937683,\n",
       " 0.6610178351402283,\n",
       " -0.7593401074409485,\n",
       " 0.9991783499717712)"
      ]
     },
     "execution_count": 50,
     "metadata": {},
     "output_type": "execute_result"
    }
   ],
   "source": [
    "lis[0]"
   ]
  },
  {
   "cell_type": "code",
   "execution_count": 57,
   "id": "74b42c0a",
   "metadata": {},
   "outputs": [],
   "source": [
    "import pandas as pd\n",
    "\n",
    "def convert_list_to_dataframe(lst):\n",
    "    data = {}\n",
    "    for i, landmark in enumerate(lst):\n",
    "        data[f'x{i+1}'] = landmark[0]\n",
    "        data[f'y{i+1}'] = landmark[1]\n",
    "        data[f'z{i+1}'] = landmark[2]\n",
    "        data[f'visibility{i+1}'] = landmark[3]\n",
    "    df = pd.DataFrame(data, index=[0])\n",
    "    return df"
   ]
  },
  {
   "cell_type": "code",
   "execution_count": 58,
   "id": "3677d6c0",
   "metadata": {},
   "outputs": [
    {
     "data": {
      "text/html": [
       "<div>\n",
       "<style scoped>\n",
       "    .dataframe tbody tr th:only-of-type {\n",
       "        vertical-align: middle;\n",
       "    }\n",
       "\n",
       "    .dataframe tbody tr th {\n",
       "        vertical-align: top;\n",
       "    }\n",
       "\n",
       "    .dataframe thead th {\n",
       "        text-align: right;\n",
       "    }\n",
       "</style>\n",
       "<table border=\"1\" class=\"dataframe\">\n",
       "  <thead>\n",
       "    <tr style=\"text-align: right;\">\n",
       "      <th></th>\n",
       "      <th>x1</th>\n",
       "      <th>y1</th>\n",
       "      <th>z1</th>\n",
       "      <th>visibility1</th>\n",
       "      <th>x2</th>\n",
       "      <th>y2</th>\n",
       "      <th>z2</th>\n",
       "      <th>visibility2</th>\n",
       "      <th>x3</th>\n",
       "      <th>y3</th>\n",
       "      <th>...</th>\n",
       "      <th>z31</th>\n",
       "      <th>visibility31</th>\n",
       "      <th>x32</th>\n",
       "      <th>y32</th>\n",
       "      <th>z32</th>\n",
       "      <th>visibility32</th>\n",
       "      <th>x33</th>\n",
       "      <th>y33</th>\n",
       "      <th>z33</th>\n",
       "      <th>visibility33</th>\n",
       "    </tr>\n",
       "  </thead>\n",
       "  <tbody>\n",
       "    <tr>\n",
       "      <th>0</th>\n",
       "      <td>0.521391</td>\n",
       "      <td>0.661018</td>\n",
       "      <td>-0.75934</td>\n",
       "      <td>0.999178</td>\n",
       "      <td>0.542645</td>\n",
       "      <td>0.607172</td>\n",
       "      <td>-0.714328</td>\n",
       "      <td>0.99877</td>\n",
       "      <td>0.555991</td>\n",
       "      <td>0.608268</td>\n",
       "      <td>...</td>\n",
       "      <td>-0.269034</td>\n",
       "      <td>0.000005</td>\n",
       "      <td>0.585669</td>\n",
       "      <td>2.590938</td>\n",
       "      <td>-0.491565</td>\n",
       "      <td>0.000079</td>\n",
       "      <td>0.439215</td>\n",
       "      <td>2.575106</td>\n",
       "      <td>-0.805755</td>\n",
       "      <td>0.000056</td>\n",
       "    </tr>\n",
       "  </tbody>\n",
       "</table>\n",
       "<p>1 rows × 132 columns</p>\n",
       "</div>"
      ],
      "text/plain": [
       "         x1        y1       z1  visibility1        x2        y2        z2  \\\n",
       "0  0.521391  0.661018 -0.75934     0.999178  0.542645  0.607172 -0.714328   \n",
       "\n",
       "   visibility2        x3        y3  ...       z31  visibility31       x32  \\\n",
       "0      0.99877  0.555991  0.608268  ... -0.269034      0.000005  0.585669   \n",
       "\n",
       "        y32       z32  visibility32       x33       y33       z33  \\\n",
       "0  2.590938 -0.491565      0.000079  0.439215  2.575106 -0.805755   \n",
       "\n",
       "   visibility33  \n",
       "0      0.000056  \n",
       "\n",
       "[1 rows x 132 columns]"
      ]
     },
     "execution_count": 58,
     "metadata": {},
     "output_type": "execute_result"
    }
   ],
   "source": [
    "convert_list_to_dataframe(lis)"
   ]
  },
  {
   "cell_type": "code",
   "execution_count": null,
   "id": "c97fbe23",
   "metadata": {},
   "outputs": [],
   "source": []
  }
 ],
 "metadata": {
  "kernelspec": {
   "display_name": "Python 3 (ipykernel)",
   "language": "python",
   "name": "python3"
  },
  "language_info": {
   "codemirror_mode": {
    "name": "ipython",
    "version": 3
   },
   "file_extension": ".py",
   "mimetype": "text/x-python",
   "name": "python",
   "nbconvert_exporter": "python",
   "pygments_lexer": "ipython3",
   "version": "3.10.6"
  }
 },
 "nbformat": 4,
 "nbformat_minor": 5
}
